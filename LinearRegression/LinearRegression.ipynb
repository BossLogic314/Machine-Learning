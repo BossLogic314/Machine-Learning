{
 "cells": [
  {
   "cell_type": "code",
   "execution_count": 1,
   "metadata": {},
   "outputs": [],
   "source": [
    "import numpy as np\n",
    "import matplotlib.pyplot as plt\n",
    "from sklearn.datasets import make_regressions"
   ]
  },
  {
   "cell_type": "code",
   "execution_count": 2,
   "metadata": {},
   "outputs": [],
   "source": [
    "# The class which implements Linear Regression\n",
    "class ImplementLinearRegression:\n",
    "    \n",
    "    # Constructor\n",
    "    def __init__(self, learning_rate = 0.1):\n",
    "        self.learning_rate = learning_rate\n",
    "    \n",
    "    # Obtaining the predicted values for the x-coordinates\n",
    "    def predict(self):\n",
    "        return self.coeff * self.X + self.bias\n",
    "    \n",
    "    # Training the model with data\n",
    "    def fit(self, X, y):\n",
    "        \n",
    "        # Assigning the values of x and y\n",
    "        self.X = X.reshape(-1, 1)\n",
    "        self.y = y.reshape(-1, 1)\n",
    "        \n",
    "        # Assigning some random values to coefficient and bias, and then gradient descent needs to be performed on it\n",
    "        self.coeff = np.random.random()\n",
    "        self.bias = np.random.random()\n",
    "        \n",
    "        # Performing gradient descent a fixed number of times\n",
    "        for i in range(200):\n",
    "            self.gradient_descent()\n",
    "    \n",
    "    # Performing gradient descent and determing the values of coefficient and bias\n",
    "    def gradient_descent(self):\n",
    "        \n",
    "        # Getting the predicted hypothesis\n",
    "        yh = self.predict()\n",
    "        \n",
    "        # Updating the values of the coefficient and bias\n",
    "        self.coeff += (2 * self.X * (self.y - yh) * self.learning_rate).mean()\n",
    "        self.bias += (2 * (self.y - yh) * self.learning_rate).mean()"
   ]
  },
  {
   "cell_type": "code",
   "execution_count": 3,
   "metadata": {},
   "outputs": [],
   "source": [
    "bias = 10\n",
    "X, y, coef = make_regression(n_features = 1, bias = bias, noise = 20, random_state = 42, coef = True)"
   ]
  },
  {
   "cell_type": "code",
   "execution_count": 4,
   "metadata": {},
   "outputs": [],
   "source": [
    "model = ImplementLinearRegression()\n",
    "model.fit(X, y)"
   ]
  },
  {
   "cell_type": "code",
   "execution_count": 5,
   "metadata": {},
   "outputs": [
    {
     "data": {
      "text/plain": [
       "[<matplotlib.lines.Line2D at 0x26fc88b61f0>]"
      ]
     },
     "execution_count": 5,
     "metadata": {},
     "output_type": "execute_result"
    },
    {
     "data": {
      "image/png": "[encoded data removed]",
      "text/plain": [
       "<Figure size 432x288 with 1 Axes>"
      ]
     },
     "metadata": {
      "needs_background": "light"
     },
     "output_type": "display_data"
    }
   ],
   "source": [
    "plt.scatter(X, y)\n",
    "y_gen = model.predict()\n",
    "plt.plot(X, y_gen, color = 'orange')"
   ]
  }
 ],
 "metadata": {
  "kernelspec": {
   "display_name": "Python 3",
   "language": "python",
   "name": "python3"
  },
  "language_info": {
   "codemirror_mode": {
    "name": "ipython",
    "version": 3
   },
   "file_extension": ".py",
   "mimetype": "text/x-python",
   "name": "python",
   "nbconvert_exporter": "python",
   "pygments_lexer": "ipython3",
   "version": "3.8.5"
  }
 },
 "nbformat": 4,
 "nbformat_minor": 4
}
