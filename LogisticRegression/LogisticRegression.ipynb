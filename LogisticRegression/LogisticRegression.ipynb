{
 "cells": [
  {
   "cell_type": "code",
   "execution_count": 263,
   "metadata": {},
   "outputs": [],
   "source": [
    "import numpy as np\n",
    "import matplotlib.pyplot as plt\n",
    "from sklearn.datasets import make_blobs\n",
    "from sklearn.model_selection import train_test_split"
   ]
  },
  {
   "cell_type": "code",
   "execution_count": 264,
   "metadata": {},
   "outputs": [],
   "source": [
    "X, y = make_blobs(n_samples = 100, centers = 2, random_state = 42)\n",
    "\n",
    "# Splitting the data for training and testing\n",
    "X_train, X_test, y_train, y_test = train_test_split(X, y, test_size=0.5, random_state=42)"
   ]
  },
  {
   "cell_type": "code",
   "execution_count": 265,
   "metadata": {},
   "outputs": [
    {
     "data": {
      "text/plain": [
       "<matplotlib.collections.PathCollection at 0x12934f3fc40>"
      ]
     },
     "execution_count": 265,
     "metadata": {},
     "output_type": "execute_result"
    },
    {
     "data": {
      "image/png": "[encoded data removed]",
      "text/plain": [
       "<Figure size 432x288 with 1 Axes>"
      ]
     },
     "metadata": {
      "needs_background": "light"
     },
     "output_type": "display_data"
    }
   ],
   "source": [
    "# Plotting the available data\n",
    "plt.scatter(X[:, 0], X[:, 1], c = y)"
   ]
  },
  {
   "cell_type": "code",
   "execution_count": 266,
   "metadata": {},
   "outputs": [],
   "source": [
    "class ImplementLogisticRegression:\n",
    "    \n",
    "    # Constructor\n",
    "    def __init__(self, learning_rate = 0.01):\n",
    "        self.learning_rate = learning_rate\n",
    "    \n",
    "    # Training the model\n",
    "    def fit(self, X, y):\n",
    "        \n",
    "        # Creating a column of ones for multiplication of vectors\n",
    "        ones = np.ones((X.shape[0], 1))\n",
    "        \n",
    "        # Storing x coordinates\n",
    "        self.X = np.hstack([ones, X])\n",
    "        \n",
    "        # Storing the values of 'yi's\n",
    "        self.y = y.reshape(-1, 1)\n",
    "        \n",
    "        # Storing the variables of theta\n",
    "        self.theta = np.array(np.zeros((self.X.shape[1], 1)))\n",
    "        \n",
    "        # Carrying out gradient descent a fixed number of times\n",
    "        for i in range(200):\n",
    "            self.gradient_ascent()\n",
    "    \n",
    "    def predict(self, X_test, y_test):\n",
    "        \n",
    "        # Storing the number of correct and the total number of predictions\n",
    "        correct, total = 0, 0\n",
    "        predicted_classes = []\n",
    "        \n",
    "        # Predicting for all the points\n",
    "        for x1, x2, y in zip(X_test[:, 0], X_test[:, 1], y_test[:]):\n",
    "            \n",
    "            # Noting that a prediction has been made\n",
    "            total += 1\n",
    "            \n",
    "            # Obtaining the attributes of theta\n",
    "            theta = self.theta\n",
    "            theta_0 = theta[0]\n",
    "            theta_1 = theta[1]\n",
    "            theta_2 = theta[2]\n",
    "            \n",
    "            # Computing the expression by substituting the values in the equation\n",
    "            val = theta_0 + theta_1 * x1 + theta_2 * x2\n",
    "            \n",
    "            # Predicting the class to which the point belongs to\n",
    "            if(val >= 0):\n",
    "                predicted_classes.append(1)\n",
    "                val = 1\n",
    "            else:\n",
    "                predicted_classes.append(0)\n",
    "                val = 0\n",
    "            \n",
    "            # Noting for a correct prediction\n",
    "            if val == y:\n",
    "                correct += 1\n",
    "        # Returning the set of predictions and the percentage accuracy\n",
    "        return np.array(predicted_classes), correct / total * 100\n",
    "    \n",
    "    # Returns the outputs from the hypothesis\n",
    "    def get_hypothesis(self):\n",
    "        dot_product = np.dot(self.X, self.theta)\n",
    "        \n",
    "        # Calculating the outputs from the hypothesis for all the values of X\n",
    "        hypothesis = 1 / (1 + np.exp(-dot_product))\n",
    "        return hypothesis\n",
    "    \n",
    "    # Performing the gradient descent\n",
    "    def gradient_ascent(self):\n",
    "        \n",
    "        # Getting the hypothesis output for all the values of X\n",
    "        hypothesis = self.get_hypothesis()\n",
    "        \n",
    "        # Calculating the sigma term in the gradient ascent formula\n",
    "        sigma = np.dot(self.X.T, self.y - hypothesis)\n",
    "        \n",
    "        # Updating the values of theta\n",
    "        self.theta += self.learning_rate * sigma"
   ]
  },
  {
   "cell_type": "code",
   "execution_count": 267,
   "metadata": {},
   "outputs": [],
   "source": [
    "# Creating a model for logistic regression\n",
    "model = ImplementLogisticRegression()"
   ]
  },
  {
   "cell_type": "code",
   "execution_count": 268,
   "metadata": {},
   "outputs": [],
   "source": [
    "# Training the model with training data\n",
    "model.fit(X_train, y_train)"
   ]
  },
  {
   "cell_type": "code",
   "execution_count": 269,
   "metadata": {},
   "outputs": [
    {
     "data": {
      "text/plain": [
       "[<matplotlib.lines.Line2D at 0x12934fb5400>]"
      ]
     },
     "execution_count": 269,
     "metadata": {},
     "output_type": "execute_result"
    },
    {
     "data": {
      "image/png": "[encoded data removed]",
      "text/plain": [
       "<Figure size 432x288 with 1 Axes>"
      ]
     },
     "metadata": {
      "needs_background": "light"
     },
     "output_type": "display_data"
    }
   ],
   "source": [
    "# Getting the attributes of the line\n",
    "theta = model.theta\n",
    "theta_0 = theta[0]\n",
    "theta_1 = theta[1]\n",
    "theta_2 = theta[2]\n",
    "\n",
    "# Plotting the points\n",
    "plt.scatter(X_train[:, 0], X_train[:, 1], c = y_train)\n",
    "\n",
    "# Plotting the line dividing the two classes\n",
    "x_plot = np.linspace(-2, 3)\n",
    "y_plot = -theta_1 / theta_2 * x_plot - theta_0 / theta_2\n",
    "plt.plot(x_plot, y_plot, color = 'red')"
   ]
  },
  {
   "cell_type": "code",
   "execution_count": 271,
   "metadata": {},
   "outputs": [],
   "source": [
    "# Obtaining the set of predictions and their accuracy\n",
    "predictions, accuracy = model.predict(X_test, y_test)"
   ]
  },
  {
   "cell_type": "code",
   "execution_count": 272,
   "metadata": {},
   "outputs": [
    {
     "name": "stdout",
     "output_type": "stream",
     "text": [
      "100.0\n"
     ]
    }
   ],
   "source": [
    "print(accuracy)"
   ]
  }
 ],
 "metadata": {
  "kernelspec": {
   "display_name": "Python 3",
   "language": "python",
   "name": "python3"
  },
  "language_info": {
   "codemirror_mode": {
    "name": "ipython",
    "version": 3
   },
   "file_extension": ".py",
   "mimetype": "text/x-python",
   "name": "python",
   "nbconvert_exporter": "python",
   "pygments_lexer": "ipython3",
   "version": "3.8.5"
  }
 },
 "nbformat": 4,
 "nbformat_minor": 4
}
