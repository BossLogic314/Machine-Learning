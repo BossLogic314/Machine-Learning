{
 "cells": [
  {
   "cell_type": "code",
   "execution_count": 1,
   "metadata": {},
   "outputs": [],
   "source": [
    "import numpy as np\n",
    "from sklearn.model_selection import train_test_split"
   ]
  },
  {
   "cell_type": "code",
   "execution_count": 2,
   "metadata": {},
   "outputs": [],
   "source": [
    "# Loading the data\n",
    "data = np.load(\"..\\Datasets\\mnist_train_small.npy\")"
   ]
  },
  {
   "cell_type": "code",
   "execution_count": 3,
   "metadata": {},
   "outputs": [],
   "source": [
    "# Splitting the data into X and y\n",
    "X = data[:, 1:]\n",
    "y = data[:, 0]"
   ]
  },
  {
   "cell_type": "code",
   "execution_count": 4,
   "metadata": {},
   "outputs": [],
   "source": [
    "# Splitting some data from training, and the remaining for testing\n",
    "X_train, X_test, y_train, y_test = train_test_split(X, y, test_size=0.50, random_state=42)"
   ]
  },
  {
   "cell_type": "code",
   "execution_count": 5,
   "metadata": {},
   "outputs": [],
   "source": [
    "# Implementation of the KNN algorithm\n",
    "class ImplementKNN:\n",
    "    \n",
    "    # Constructor\n",
    "    def __init__(self, K = 5):\n",
    "        self.K = K\n",
    "    \n",
    "    # Training the model with data\n",
    "    def fit(self, X, y):\n",
    "        \n",
    "        # Standardizing the values of X\n",
    "        self.X = (X - X.mean()) / X.std()\n",
    "        self.y = y\n",
    "    \n",
    "    # Predicting the class to which the point belongs to\n",
    "    def predict_point(self, point):\n",
    "        \n",
    "        # Storing the distance of the point from all the points in the data\n",
    "        distances = []\n",
    "        \n",
    "        # Computing the distance from each point in the dataset\n",
    "        for x, y in zip(self.X, self.y):\n",
    "            distance = ((point - x)** 2).sum()\n",
    "            \n",
    "            # Appending the distance and the class to which the point 'x' belongs to\n",
    "            distances.append([distance, y])\n",
    "        \n",
    "        # Sorting the distances\n",
    "        sorted_distances = sorted(distances)\n",
    "        \n",
    "        # Storing the classes of 'K' closest points\n",
    "        closest_points = sorted_distances[: self.K]\n",
    "        \n",
    "        # Getting the unique classes which the point may belong to\n",
    "        list, counts = np.unique(np.array(closest_points)[: 1], return_counts = True)\n",
    "        \n",
    "        # Getting the most probable class\n",
    "        point_class = list[np.argmax(counts)]\n",
    "        \n",
    "        return point_class\n",
    "    \n",
    "    # Predicting the classes of all the points\n",
    "    def predict(self, X):\n",
    "        \n",
    "        # Standardization\n",
    "        X = (X - X.mean()) / X.std()\n",
    "        \n",
    "        # To store the predictions of all the points\n",
    "        predictions = []\n",
    "        \n",
    "        # Performing KNN on each point\n",
    "        for x in X:\n",
    "            point_class = self.predict_point(x)\n",
    "            predictions.append(point_class)\n",
    "        \n",
    "        # Returning the list of predictions for all the points\n",
    "        return predictions\n",
    "    \n",
    "    # Finding out the accuracy of the algorithm\n",
    "    def get_accuracy(self, predictions, answers):\n",
    "        \n",
    "        correct, total = 0, 0\n",
    "        \n",
    "        # Finding out the number of correct answers from the predictions\n",
    "        for prediction, answer in zip(predictions, answers):\n",
    "            total += 1\n",
    "            \n",
    "            # Noting that the answer is correct\n",
    "            if prediction == answer:\n",
    "                correct += 1\n",
    "        \n",
    "        # Computing the percentage of accuracy\n",
    "        accuracy = correct / total * 100\n",
    "        \n",
    "        return accuracy"
   ]
  },
  {
   "cell_type": "code",
   "execution_count": 6,
   "metadata": {},
   "outputs": [],
   "source": [
    "# Creating a KNN model and training it\n",
    "model = ImplementKNN()\n",
    "model.fit(X_train, y_train)"
   ]
  },
  {
   "cell_type": "code",
   "execution_count": 7,
   "metadata": {},
   "outputs": [],
   "source": [
    "ans = model.predict(X_test[:20])"
   ]
  },
  {
   "cell_type": "code",
   "execution_count": 8,
   "metadata": {},
   "outputs": [
    {
     "data": {
      "text/plain": [
       "95.0"
      ]
     },
     "execution_count": 8,
     "metadata": {},
     "output_type": "execute_result"
    }
   ],
   "source": [
    "# Getting the accuracy of this implementation\n",
    "model.get_accuracy(ans, y_test[:20])"
   ]
  }
 ],
 "metadata": {
  "kernelspec": {
   "display_name": "Python 3",
   "language": "python",
   "name": "python3"
  },
  "language_info": {
   "codemirror_mode": {
    "name": "ipython",
    "version": 3
   },
   "file_extension": ".py",
   "mimetype": "text/x-python",
   "name": "python",
   "nbconvert_exporter": "python",
   "pygments_lexer": "ipython3",
   "version": "3.8.5"
  }
 },
 "nbformat": 4,
 "nbformat_minor": 4
}
